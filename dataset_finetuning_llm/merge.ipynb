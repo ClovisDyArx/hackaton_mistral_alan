{
 "cells": [
  {
   "cell_type": "code",
   "execution_count": 1,
   "metadata": {},
   "outputs": [],
   "source": [
    "import pandas as pd\n",
    "import numpy as np"
   ]
  },
  {
   "cell_type": "code",
   "execution_count": 2,
   "metadata": {},
   "outputs": [
    {
     "name": "stderr",
     "output_type": "stream",
     "text": [
      "/home/alex/hackaton_mistral_alan/.venv/lib/python3.10/site-packages/tqdm/auto.py:21: TqdmWarning: IProgress not found. Please update jupyter and ipywidgets. See https://ipywidgets.readthedocs.io/en/stable/user_install.html\n",
      "  from .autonotebook import tqdm as notebook_tqdm\n"
     ]
    }
   ],
   "source": [
    "df1 = pd.read_json(\"hf://datasets/fhai50032/Symptoms_to_disease_7k/Symptoms_to_disease_7k.json\")\n",
    "df2 = pd.read_csv(\"hf://datasets/QuyenAnhDE/Diseases_Symptoms/Diseases_Symptoms.csv\")\n",
    "df3 = pd.read_parquet(\"hf://datasets/kaleem11/Disease_Symptom_Prediction_v5/data/train-00000-of-00001.parquet\")\n",
    "df4 = pd.read_csv(\"Disease_symptom_and_patient_profile_dataset.csv\")"
   ]
  },
  {
   "cell_type": "code",
   "execution_count": 3,
   "metadata": {},
   "outputs": [
    {
     "data": {
      "text/html": [
       "<div>\n",
       "<style scoped>\n",
       "    .dataframe tbody tr th:only-of-type {\n",
       "        vertical-align: middle;\n",
       "    }\n",
       "\n",
       "    .dataframe tbody tr th {\n",
       "        vertical-align: top;\n",
       "    }\n",
       "\n",
       "    .dataframe thead th {\n",
       "        text-align: right;\n",
       "    }\n",
       "</style>\n",
       "<table border=\"1\" class=\"dataframe\">\n",
       "  <thead>\n",
       "    <tr style=\"text-align: right;\">\n",
       "      <th></th>\n",
       "      <th>query</th>\n",
       "      <th>response</th>\n",
       "    </tr>\n",
       "  </thead>\n",
       "  <tbody>\n",
       "    <tr>\n",
       "      <th>0</th>\n",
       "      <td>System:'You are a highly qualified doctor.and ...</td>\n",
       "      <td>You may have Jaundice</td>\n",
       "    </tr>\n",
       "    <tr>\n",
       "      <th>1</th>\n",
       "      <td>System:'You are a highly qualified doctor.and ...</td>\n",
       "      <td>You may have Hyperthyroidism</td>\n",
       "    </tr>\n",
       "    <tr>\n",
       "      <th>2</th>\n",
       "      <td>System:'You are a highly qualified doctor.and ...</td>\n",
       "      <td>You may have Dimorphic Hemmorhoids(Piles)</td>\n",
       "    </tr>\n",
       "    <tr>\n",
       "      <th>3</th>\n",
       "      <td>System:'You are a highly qualified doctor.and ...</td>\n",
       "      <td>You may have Tuberculosis</td>\n",
       "    </tr>\n",
       "    <tr>\n",
       "      <th>4</th>\n",
       "      <td>System:'You are a highly qualified doctor.and ...</td>\n",
       "      <td>You may have Alcoholic Hepatitis</td>\n",
       "    </tr>\n",
       "  </tbody>\n",
       "</table>\n",
       "</div>"
      ],
      "text/plain": [
       "                                               query  \\\n",
       "0  System:'You are a highly qualified doctor.and ...   \n",
       "1  System:'You are a highly qualified doctor.and ...   \n",
       "2  System:'You are a highly qualified doctor.and ...   \n",
       "3  System:'You are a highly qualified doctor.and ...   \n",
       "4  System:'You are a highly qualified doctor.and ...   \n",
       "\n",
       "                                    response  \n",
       "0                      You may have Jaundice  \n",
       "1               You may have Hyperthyroidism  \n",
       "2  You may have Dimorphic Hemmorhoids(Piles)  \n",
       "3                  You may have Tuberculosis  \n",
       "4           You may have Alcoholic Hepatitis  "
      ]
     },
     "execution_count": 3,
     "metadata": {},
     "output_type": "execute_result"
    }
   ],
   "source": [
    "df1.head()"
   ]
  },
  {
   "cell_type": "code",
   "execution_count": 4,
   "metadata": {},
   "outputs": [
    {
     "data": {
      "text/plain": [
       "[\"System:'You are a highly qualified doctor.and chat polietly with patients.'\",\n",
       " 'Patient:I may have itching,vomiting,fatigue,weight_loss,high_fever,yellowish_skin,dark_urine,abdominal_pain']"
      ]
     },
     "execution_count": 4,
     "metadata": {},
     "output_type": "execute_result"
    }
   ],
   "source": [
    "df1['query'][0].split('\\n')"
   ]
  },
  {
   "cell_type": "code",
   "execution_count": 5,
   "metadata": {},
   "outputs": [
    {
     "data": {
      "text/html": [
       "<div>\n",
       "<style scoped>\n",
       "    .dataframe tbody tr th:only-of-type {\n",
       "        vertical-align: middle;\n",
       "    }\n",
       "\n",
       "    .dataframe tbody tr th {\n",
       "        vertical-align: top;\n",
       "    }\n",
       "\n",
       "    .dataframe thead th {\n",
       "        text-align: right;\n",
       "    }\n",
       "</style>\n",
       "<table border=\"1\" class=\"dataframe\">\n",
       "  <thead>\n",
       "    <tr style=\"text-align: right;\">\n",
       "      <th></th>\n",
       "      <th>symptoms</th>\n",
       "      <th>disease</th>\n",
       "    </tr>\n",
       "  </thead>\n",
       "  <tbody>\n",
       "    <tr>\n",
       "      <th>0</th>\n",
       "      <td>itching,vomiting,fatigue,weight_loss,high_feve...</td>\n",
       "      <td>Jaundice</td>\n",
       "    </tr>\n",
       "    <tr>\n",
       "      <th>1</th>\n",
       "      <td>fatigue,weight_loss,restlessness,sweating,diar...</td>\n",
       "      <td>Hyperthyroidism</td>\n",
       "    </tr>\n",
       "    <tr>\n",
       "      <th>2</th>\n",
       "      <td>constipation,pain_during_bowel_movements,pain_...</td>\n",
       "      <td>Dimorphic Hemmorhoids(Piles)</td>\n",
       "    </tr>\n",
       "    <tr>\n",
       "      <th>3</th>\n",
       "      <td>chills,vomiting,fatigue,weight_loss,cough,high...</td>\n",
       "      <td>Tuberculosis</td>\n",
       "    </tr>\n",
       "    <tr>\n",
       "      <th>4</th>\n",
       "      <td>vomiting,yellowish_skin,abdominal_pain,swellin...</td>\n",
       "      <td>Alcoholic Hepatitis</td>\n",
       "    </tr>\n",
       "  </tbody>\n",
       "</table>\n",
       "</div>"
      ],
      "text/plain": [
       "                                            symptoms  \\\n",
       "0  itching,vomiting,fatigue,weight_loss,high_feve...   \n",
       "1  fatigue,weight_loss,restlessness,sweating,diar...   \n",
       "2  constipation,pain_during_bowel_movements,pain_...   \n",
       "3  chills,vomiting,fatigue,weight_loss,cough,high...   \n",
       "4  vomiting,yellowish_skin,abdominal_pain,swellin...   \n",
       "\n",
       "                        disease  \n",
       "0                      Jaundice  \n",
       "1               Hyperthyroidism  \n",
       "2  Dimorphic Hemmorhoids(Piles)  \n",
       "3                  Tuberculosis  \n",
       "4           Alcoholic Hepatitis  "
      ]
     },
     "execution_count": 5,
     "metadata": {},
     "output_type": "execute_result"
    }
   ],
   "source": [
    "df1['query'] = df1['query'].apply(lambda x: x.split('\\n')[1][8:])\n",
    "df1.columns = ['symptoms', 'disease']\n",
    "df1['symptoms'] = df1['symptoms'].apply(lambda x: x[11:])\n",
    "df1['disease'] = df1['disease'].apply(lambda x: x[13:])\n",
    "df1.head()"
   ]
  },
  {
   "cell_type": "code",
   "execution_count": 6,
   "metadata": {},
   "outputs": [
    {
     "data": {
      "text/plain": [
       "7043"
      ]
     },
     "execution_count": 6,
     "metadata": {},
     "output_type": "execute_result"
    }
   ],
   "source": [
    "len(df1)"
   ]
  },
  {
   "cell_type": "code",
   "execution_count": 7,
   "metadata": {},
   "outputs": [
    {
     "data": {
      "text/html": [
       "<div>\n",
       "<style scoped>\n",
       "    .dataframe tbody tr th:only-of-type {\n",
       "        vertical-align: middle;\n",
       "    }\n",
       "\n",
       "    .dataframe tbody tr th {\n",
       "        vertical-align: top;\n",
       "    }\n",
       "\n",
       "    .dataframe thead th {\n",
       "        text-align: right;\n",
       "    }\n",
       "</style>\n",
       "<table border=\"1\" class=\"dataframe\">\n",
       "  <thead>\n",
       "    <tr style=\"text-align: right;\">\n",
       "      <th></th>\n",
       "      <th>symptoms</th>\n",
       "      <th>disease</th>\n",
       "    </tr>\n",
       "  </thead>\n",
       "  <tbody>\n",
       "    <tr>\n",
       "      <th>count</th>\n",
       "      <td>7043</td>\n",
       "      <td>7043</td>\n",
       "    </tr>\n",
       "    <tr>\n",
       "      <th>unique</th>\n",
       "      <td>2422</td>\n",
       "      <td>1082</td>\n",
       "    </tr>\n",
       "    <tr>\n",
       "      <th>top</th>\n",
       "      <td>muscle_weakness,stiff_neck,swelling_joints,mov...</td>\n",
       "      <td>Impetigo</td>\n",
       "    </tr>\n",
       "    <tr>\n",
       "      <th>freq</th>\n",
       "      <td>90</td>\n",
       "      <td>171</td>\n",
       "    </tr>\n",
       "  </tbody>\n",
       "</table>\n",
       "</div>"
      ],
      "text/plain": [
       "                                                 symptoms   disease\n",
       "count                                                7043      7043\n",
       "unique                                               2422      1082\n",
       "top     muscle_weakness,stiff_neck,swelling_joints,mov...  Impetigo\n",
       "freq                                                   90       171"
      ]
     },
     "execution_count": 7,
     "metadata": {},
     "output_type": "execute_result"
    }
   ],
   "source": [
    "df1.describe()"
   ]
  },
  {
   "cell_type": "code",
   "execution_count": 8,
   "metadata": {},
   "outputs": [
    {
     "data": {
      "text/plain": [
       "['<s>[INST] my Symptoms are itching  skin rash  nodal skin eruptions  dischromic  patches [',\n",
       " 'INST] Disease and Precaution: Fungal infection ,bath twice ,use detol or neem in bathing water ,keep infected area dry ,use clean cloths <',\n",
       " 's>']"
      ]
     },
     "execution_count": 8,
     "metadata": {},
     "output_type": "execute_result"
    }
   ],
   "source": [
    "df3['text'][0].split('/')"
   ]
  },
  {
   "cell_type": "code",
   "execution_count": 9,
   "metadata": {},
   "outputs": [],
   "source": [
    "df3['symptoms'] = df3['text'].apply(lambda x: x.split('/')[0][10:-1].lower())\n",
    "df3['disease'] = df3['text'].apply(lambda x: x.split('/')[1][30:])\n",
    "df3['symptoms'] = df3['symptoms'].apply(lambda x: x[16:])\n",
    "df3.drop(columns=['text'], inplace=True)"
   ]
  },
  {
   "cell_type": "code",
   "execution_count": 10,
   "metadata": {},
   "outputs": [
    {
     "data": {
      "text/html": [
       "<div>\n",
       "<style scoped>\n",
       "    .dataframe tbody tr th:only-of-type {\n",
       "        vertical-align: middle;\n",
       "    }\n",
       "\n",
       "    .dataframe tbody tr th {\n",
       "        vertical-align: top;\n",
       "    }\n",
       "\n",
       "    .dataframe thead th {\n",
       "        text-align: right;\n",
       "    }\n",
       "</style>\n",
       "<table border=\"1\" class=\"dataframe\">\n",
       "  <thead>\n",
       "    <tr style=\"text-align: right;\">\n",
       "      <th></th>\n",
       "      <th>symptoms</th>\n",
       "      <th>disease</th>\n",
       "    </tr>\n",
       "  </thead>\n",
       "  <tbody>\n",
       "    <tr>\n",
       "      <th>0</th>\n",
       "      <td>itching  skin rash  nodal skin eruptions  disc...</td>\n",
       "      <td>Fungal infection ,bath twice ,use detol or nee...</td>\n",
       "    </tr>\n",
       "    <tr>\n",
       "      <th>1</th>\n",
       "      <td>skin rash  nodal skin eruptions  dischromic  ...</td>\n",
       "      <td>Fungal infection ,bath twice ,use detol or nee...</td>\n",
       "    </tr>\n",
       "    <tr>\n",
       "      <th>2</th>\n",
       "      <td>itching  nodal skin eruptions  dischromic  pat...</td>\n",
       "      <td>Fungal infection ,bath twice ,use detol or nee...</td>\n",
       "    </tr>\n",
       "    <tr>\n",
       "      <th>3</th>\n",
       "      <td>itching  skin rash  dischromic  patches</td>\n",
       "      <td>Fungal infection ,bath twice ,use detol or nee...</td>\n",
       "    </tr>\n",
       "    <tr>\n",
       "      <th>4</th>\n",
       "      <td>itching  skin rash  nodal skin eruptions</td>\n",
       "      <td>Fungal infection ,bath twice ,use detol or nee...</td>\n",
       "    </tr>\n",
       "  </tbody>\n",
       "</table>\n",
       "</div>"
      ],
      "text/plain": [
       "                                            symptoms  \\\n",
       "0  itching  skin rash  nodal skin eruptions  disc...   \n",
       "1   skin rash  nodal skin eruptions  dischromic  ...   \n",
       "2  itching  nodal skin eruptions  dischromic  pat...   \n",
       "3           itching  skin rash  dischromic  patches    \n",
       "4          itching  skin rash  nodal skin eruptions    \n",
       "\n",
       "                                             disease  \n",
       "0  Fungal infection ,bath twice ,use detol or nee...  \n",
       "1  Fungal infection ,bath twice ,use detol or nee...  \n",
       "2  Fungal infection ,bath twice ,use detol or nee...  \n",
       "3  Fungal infection ,bath twice ,use detol or nee...  \n",
       "4  Fungal infection ,bath twice ,use detol or nee...  "
      ]
     },
     "execution_count": 10,
     "metadata": {},
     "output_type": "execute_result"
    }
   ],
   "source": [
    "df3.head()"
   ]
  },
  {
   "cell_type": "code",
   "execution_count": 11,
   "metadata": {},
   "outputs": [
    {
     "data": {
      "text/plain": [
       "4920"
      ]
     },
     "execution_count": 11,
     "metadata": {},
     "output_type": "execute_result"
    }
   ],
   "source": [
    "len(df3)"
   ]
  },
  {
   "cell_type": "code",
   "execution_count": 12,
   "metadata": {},
   "outputs": [
    {
     "data": {
      "text/html": [
       "<div>\n",
       "<style scoped>\n",
       "    .dataframe tbody tr th:only-of-type {\n",
       "        vertical-align: middle;\n",
       "    }\n",
       "\n",
       "    .dataframe tbody tr th {\n",
       "        vertical-align: top;\n",
       "    }\n",
       "\n",
       "    .dataframe thead th {\n",
       "        text-align: right;\n",
       "    }\n",
       "</style>\n",
       "<table border=\"1\" class=\"dataframe\">\n",
       "  <thead>\n",
       "    <tr style=\"text-align: right;\">\n",
       "      <th></th>\n",
       "      <th>symptoms</th>\n",
       "      <th>disease</th>\n",
       "    </tr>\n",
       "  </thead>\n",
       "  <tbody>\n",
       "    <tr>\n",
       "      <th>count</th>\n",
       "      <td>4920</td>\n",
       "      <td>4920</td>\n",
       "    </tr>\n",
       "    <tr>\n",
       "      <th>unique</th>\n",
       "      <td>304</td>\n",
       "      <td>41</td>\n",
       "    </tr>\n",
       "    <tr>\n",
       "      <th>top</th>\n",
       "      <td>muscle weakness  stiff neck  swelling joints ...</td>\n",
       "      <td>Fungal infection ,bath twice ,use detol or nee...</td>\n",
       "    </tr>\n",
       "    <tr>\n",
       "      <th>freq</th>\n",
       "      <td>90</td>\n",
       "      <td>120</td>\n",
       "    </tr>\n",
       "  </tbody>\n",
       "</table>\n",
       "</div>"
      ],
      "text/plain": [
       "                                                 symptoms  \\\n",
       "count                                                4920   \n",
       "unique                                                304   \n",
       "top      muscle weakness  stiff neck  swelling joints ...   \n",
       "freq                                                   90   \n",
       "\n",
       "                                                  disease  \n",
       "count                                                4920  \n",
       "unique                                                 41  \n",
       "top     Fungal infection ,bath twice ,use detol or nee...  \n",
       "freq                                                  120  "
      ]
     },
     "execution_count": 12,
     "metadata": {},
     "output_type": "execute_result"
    }
   ],
   "source": [
    "df3.describe()"
   ]
  },
  {
   "cell_type": "code",
   "execution_count": 23,
   "metadata": {},
   "outputs": [],
   "source": [
    "df = pd.concat([df1, df3], ignore_index=True)"
   ]
  },
  {
   "cell_type": "code",
   "execution_count": 24,
   "metadata": {},
   "outputs": [
    {
     "data": {
      "text/html": [
       "<div>\n",
       "<style scoped>\n",
       "    .dataframe tbody tr th:only-of-type {\n",
       "        vertical-align: middle;\n",
       "    }\n",
       "\n",
       "    .dataframe tbody tr th {\n",
       "        vertical-align: top;\n",
       "    }\n",
       "\n",
       "    .dataframe thead th {\n",
       "        text-align: right;\n",
       "    }\n",
       "</style>\n",
       "<table border=\"1\" class=\"dataframe\">\n",
       "  <thead>\n",
       "    <tr style=\"text-align: right;\">\n",
       "      <th></th>\n",
       "      <th>symptoms</th>\n",
       "      <th>disease</th>\n",
       "    </tr>\n",
       "  </thead>\n",
       "  <tbody>\n",
       "    <tr>\n",
       "      <th>0</th>\n",
       "      <td>itching,vomiting,fatigue,weight_loss,high_feve...</td>\n",
       "      <td>Jaundice</td>\n",
       "    </tr>\n",
       "    <tr>\n",
       "      <th>1</th>\n",
       "      <td>fatigue,weight_loss,restlessness,sweating,diar...</td>\n",
       "      <td>Hyperthyroidism</td>\n",
       "    </tr>\n",
       "    <tr>\n",
       "      <th>2</th>\n",
       "      <td>constipation,pain_during_bowel_movements,pain_...</td>\n",
       "      <td>Dimorphic Hemmorhoids(Piles)</td>\n",
       "    </tr>\n",
       "    <tr>\n",
       "      <th>3</th>\n",
       "      <td>chills,vomiting,fatigue,weight_loss,cough,high...</td>\n",
       "      <td>Tuberculosis</td>\n",
       "    </tr>\n",
       "    <tr>\n",
       "      <th>4</th>\n",
       "      <td>vomiting,yellowish_skin,abdominal_pain,swellin...</td>\n",
       "      <td>Alcoholic Hepatitis</td>\n",
       "    </tr>\n",
       "    <tr>\n",
       "      <th>...</th>\n",
       "      <td>...</td>\n",
       "      <td>...</td>\n",
       "    </tr>\n",
       "    <tr>\n",
       "      <th>11958</th>\n",
       "      <td>vomiting  headache  nausea  spinning movement...</td>\n",
       "      <td>(vertigo) Paroymsal  Positional Vertigo ,lie d...</td>\n",
       "    </tr>\n",
       "    <tr>\n",
       "      <th>11959</th>\n",
       "      <td>skin rash  pus filled pimples  blackheads  sc...</td>\n",
       "      <td>Acne ,bath twice ,avoid fatty spicy food ,drin...</td>\n",
       "    </tr>\n",
       "    <tr>\n",
       "      <th>11960</th>\n",
       "      <td>burning micturition  bladder discomfort  foul...</td>\n",
       "      <td>Urinary tract infection ,drink plenty of water...</td>\n",
       "    </tr>\n",
       "    <tr>\n",
       "      <th>11961</th>\n",
       "      <td>skin rash  joint pain  skin peeling  silver l...</td>\n",
       "      <td>Psoriasis ,wash hands with warm soapy water ,s...</td>\n",
       "    </tr>\n",
       "    <tr>\n",
       "      <th>11962</th>\n",
       "      <td>skin rash  high fever  blister  red sore arou...</td>\n",
       "      <td>Impetigo ,soak affected area in warm water ,us...</td>\n",
       "    </tr>\n",
       "  </tbody>\n",
       "</table>\n",
       "<p>11963 rows × 2 columns</p>\n",
       "</div>"
      ],
      "text/plain": [
       "                                                symptoms  \\\n",
       "0      itching,vomiting,fatigue,weight_loss,high_feve...   \n",
       "1      fatigue,weight_loss,restlessness,sweating,diar...   \n",
       "2      constipation,pain_during_bowel_movements,pain_...   \n",
       "3      chills,vomiting,fatigue,weight_loss,cough,high...   \n",
       "4      vomiting,yellowish_skin,abdominal_pain,swellin...   \n",
       "...                                                  ...   \n",
       "11958   vomiting  headache  nausea  spinning movement...   \n",
       "11959   skin rash  pus filled pimples  blackheads  sc...   \n",
       "11960   burning micturition  bladder discomfort  foul...   \n",
       "11961   skin rash  joint pain  skin peeling  silver l...   \n",
       "11962   skin rash  high fever  blister  red sore arou...   \n",
       "\n",
       "                                                 disease  \n",
       "0                                               Jaundice  \n",
       "1                                        Hyperthyroidism  \n",
       "2                           Dimorphic Hemmorhoids(Piles)  \n",
       "3                                           Tuberculosis  \n",
       "4                                    Alcoholic Hepatitis  \n",
       "...                                                  ...  \n",
       "11958  (vertigo) Paroymsal  Positional Vertigo ,lie d...  \n",
       "11959  Acne ,bath twice ,avoid fatty spicy food ,drin...  \n",
       "11960  Urinary tract infection ,drink plenty of water...  \n",
       "11961  Psoriasis ,wash hands with warm soapy water ,s...  \n",
       "11962  Impetigo ,soak affected area in warm water ,us...  \n",
       "\n",
       "[11963 rows x 2 columns]"
      ]
     },
     "execution_count": 24,
     "metadata": {},
     "output_type": "execute_result"
    }
   ],
   "source": [
    "df"
   ]
  },
  {
   "cell_type": "code",
   "execution_count": 25,
   "metadata": {},
   "outputs": [
    {
     "data": {
      "text/html": [
       "<div>\n",
       "<style scoped>\n",
       "    .dataframe tbody tr th:only-of-type {\n",
       "        vertical-align: middle;\n",
       "    }\n",
       "\n",
       "    .dataframe tbody tr th {\n",
       "        vertical-align: top;\n",
       "    }\n",
       "\n",
       "    .dataframe thead th {\n",
       "        text-align: right;\n",
       "    }\n",
       "</style>\n",
       "<table border=\"1\" class=\"dataframe\">\n",
       "  <thead>\n",
       "    <tr style=\"text-align: right;\">\n",
       "      <th></th>\n",
       "      <th>symptoms</th>\n",
       "      <th>disease</th>\n",
       "    </tr>\n",
       "  </thead>\n",
       "  <tbody>\n",
       "    <tr>\n",
       "      <th>count</th>\n",
       "      <td>11963</td>\n",
       "      <td>11963</td>\n",
       "    </tr>\n",
       "    <tr>\n",
       "      <th>unique</th>\n",
       "      <td>2726</td>\n",
       "      <td>1123</td>\n",
       "    </tr>\n",
       "    <tr>\n",
       "      <th>top</th>\n",
       "      <td>muscle_weakness,stiff_neck,swelling_joints,mov...</td>\n",
       "      <td>Cervical Spondylosis</td>\n",
       "    </tr>\n",
       "    <tr>\n",
       "      <th>freq</th>\n",
       "      <td>90</td>\n",
       "      <td>171</td>\n",
       "    </tr>\n",
       "  </tbody>\n",
       "</table>\n",
       "</div>"
      ],
      "text/plain": [
       "                                                 symptoms  \\\n",
       "count                                               11963   \n",
       "unique                                               2726   \n",
       "top     muscle_weakness,stiff_neck,swelling_joints,mov...   \n",
       "freq                                                   90   \n",
       "\n",
       "                     disease  \n",
       "count                  11963  \n",
       "unique                  1123  \n",
       "top     Cervical Spondylosis  \n",
       "freq                     171  "
      ]
     },
     "execution_count": 25,
     "metadata": {},
     "output_type": "execute_result"
    }
   ],
   "source": [
    "df.describe()"
   ]
  },
  {
   "cell_type": "code",
   "execution_count": 26,
   "metadata": {},
   "outputs": [
    {
     "data": {
      "text/html": [
       "<div>\n",
       "<style scoped>\n",
       "    .dataframe tbody tr th:only-of-type {\n",
       "        vertical-align: middle;\n",
       "    }\n",
       "\n",
       "    .dataframe tbody tr th {\n",
       "        vertical-align: top;\n",
       "    }\n",
       "\n",
       "    .dataframe thead th {\n",
       "        text-align: right;\n",
       "    }\n",
       "</style>\n",
       "<table border=\"1\" class=\"dataframe\">\n",
       "  <thead>\n",
       "    <tr style=\"text-align: right;\">\n",
       "      <th></th>\n",
       "      <th>symptoms</th>\n",
       "      <th>disease</th>\n",
       "    </tr>\n",
       "  </thead>\n",
       "  <tbody>\n",
       "    <tr>\n",
       "      <th>0</th>\n",
       "      <td>itching,vomiting,fatigue,weight_loss,high_feve...</td>\n",
       "      <td>Jaundice</td>\n",
       "    </tr>\n",
       "    <tr>\n",
       "      <th>1</th>\n",
       "      <td>fatigue,weight_loss,restlessness,sweating,diar...</td>\n",
       "      <td>Hyperthyroidism</td>\n",
       "    </tr>\n",
       "    <tr>\n",
       "      <th>2</th>\n",
       "      <td>constipation,pain_during_bowel_movements,pain_...</td>\n",
       "      <td>Dimorphic Hemmorhoids(Piles)</td>\n",
       "    </tr>\n",
       "    <tr>\n",
       "      <th>3</th>\n",
       "      <td>chills,vomiting,fatigue,weight_loss,cough,high...</td>\n",
       "      <td>Tuberculosis</td>\n",
       "    </tr>\n",
       "    <tr>\n",
       "      <th>4</th>\n",
       "      <td>vomiting,yellowish_skin,abdominal_pain,swellin...</td>\n",
       "      <td>Alcoholic Hepatitis</td>\n",
       "    </tr>\n",
       "    <tr>\n",
       "      <th>...</th>\n",
       "      <td>...</td>\n",
       "      <td>...</td>\n",
       "    </tr>\n",
       "    <tr>\n",
       "      <th>11958</th>\n",
       "      <td>vomiting  headache  nausea  spinning movement...</td>\n",
       "      <td>(vertigo) Paroymsal  Positional Vertigo ,lie d...</td>\n",
       "    </tr>\n",
       "    <tr>\n",
       "      <th>11959</th>\n",
       "      <td>skin rash  pus filled pimples  blackheads  sc...</td>\n",
       "      <td>Acne ,bath twice ,avoid fatty spicy food ,drin...</td>\n",
       "    </tr>\n",
       "    <tr>\n",
       "      <th>11960</th>\n",
       "      <td>burning micturition  bladder discomfort  foul...</td>\n",
       "      <td>Urinary tract infection ,drink plenty of water...</td>\n",
       "    </tr>\n",
       "    <tr>\n",
       "      <th>11961</th>\n",
       "      <td>skin rash  joint pain  skin peeling  silver l...</td>\n",
       "      <td>Psoriasis ,wash hands with warm soapy water ,s...</td>\n",
       "    </tr>\n",
       "    <tr>\n",
       "      <th>11962</th>\n",
       "      <td>skin rash  high fever  blister  red sore arou...</td>\n",
       "      <td>Impetigo ,soak affected area in warm water ,us...</td>\n",
       "    </tr>\n",
       "  </tbody>\n",
       "</table>\n",
       "<p>11963 rows × 2 columns</p>\n",
       "</div>"
      ],
      "text/plain": [
       "                                                symptoms  \\\n",
       "0      itching,vomiting,fatigue,weight_loss,high_feve...   \n",
       "1      fatigue,weight_loss,restlessness,sweating,diar...   \n",
       "2      constipation,pain_during_bowel_movements,pain_...   \n",
       "3      chills,vomiting,fatigue,weight_loss,cough,high...   \n",
       "4      vomiting,yellowish_skin,abdominal_pain,swellin...   \n",
       "...                                                  ...   \n",
       "11958   vomiting  headache  nausea  spinning movement...   \n",
       "11959   skin rash  pus filled pimples  blackheads  sc...   \n",
       "11960   burning micturition  bladder discomfort  foul...   \n",
       "11961   skin rash  joint pain  skin peeling  silver l...   \n",
       "11962   skin rash  high fever  blister  red sore arou...   \n",
       "\n",
       "                                                 disease  \n",
       "0                                               Jaundice  \n",
       "1                                        Hyperthyroidism  \n",
       "2                           Dimorphic Hemmorhoids(Piles)  \n",
       "3                                           Tuberculosis  \n",
       "4                                    Alcoholic Hepatitis  \n",
       "...                                                  ...  \n",
       "11958  (vertigo) Paroymsal  Positional Vertigo ,lie d...  \n",
       "11959  Acne ,bath twice ,avoid fatty spicy food ,drin...  \n",
       "11960  Urinary tract infection ,drink plenty of water...  \n",
       "11961  Psoriasis ,wash hands with warm soapy water ,s...  \n",
       "11962  Impetigo ,soak affected area in warm water ,us...  \n",
       "\n",
       "[11963 rows x 2 columns]"
      ]
     },
     "metadata": {},
     "output_type": "display_data"
    }
   ],
   "source": [
    "display(df)"
   ]
  },
  {
   "cell_type": "code",
   "execution_count": 27,
   "metadata": {},
   "outputs": [],
   "source": [
    "df.to_csv('combined_symptoms_diseases.csv', index=False)"
   ]
  },
  {
   "cell_type": "code",
   "execution_count": null,
   "metadata": {},
   "outputs": [],
   "source": []
  }
 ],
 "metadata": {
  "kernelspec": {
   "display_name": ".venv",
   "language": "python",
   "name": "python3"
  },
  "language_info": {
   "codemirror_mode": {
    "name": "ipython",
    "version": 3
   },
   "file_extension": ".py",
   "mimetype": "text/x-python",
   "name": "python",
   "nbconvert_exporter": "python",
   "pygments_lexer": "ipython3",
   "version": "3.10.12"
  }
 },
 "nbformat": 4,
 "nbformat_minor": 2
}
